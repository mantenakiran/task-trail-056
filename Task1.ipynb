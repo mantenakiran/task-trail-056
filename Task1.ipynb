{
 "cells": [
  {
   "cell_type": "code",
   "execution_count": 4,
   "id": "9641811e",
   "metadata": {},
   "outputs": [
    {
     "name": "stdout",
     "output_type": "stream",
     "text": [
      "    year  births  deaths    clinic\n",
      "0   1841    3036     237  clinic 1\n",
      "1   1842    3287     518  clinic 1\n",
      "2   1843    3060     274  clinic 1\n",
      "3   1844    3157     260  clinic 1\n",
      "4   1845    3492     241  clinic 1\n",
      "5   1846    4010     459  clinic 1\n",
      "6   1841    2442      86  clinic 2\n",
      "7   1842    2659     202  clinic 2\n",
      "8   1843    2739     164  clinic 2\n",
      "9   1844    2956      68  clinic 2\n",
      "10  1845    3241      66  clinic 2\n",
      "11  1846    3754     105  clinic 2\n"
     ]
    }
   ],
   "source": [
    "import pandas as pd\n",
    "\n",
    "# Read the dataset\n",
    "yearly = pd.read_csv(r\"C:\\Users\\User\\Downloads\\datasets\\datasets\\yearly_deaths_by_clinic.csv\")\n",
    "\n",
    "# Print the dataset\n",
    "print(yearly)\n"
   ]
  },
  {
   "cell_type": "code",
   "execution_count": 10,
   "id": "481c3f52",
   "metadata": {},
   "outputs": [
    {
     "name": "stdout",
     "output_type": "stream",
     "text": [
      "Empty DataFrame\n",
      "Columns: [year, births, deaths, clinic, proportion_deaths]\n",
      "Index: []\n"
     ]
    }
   ],
   "source": [
    "# task 2\n",
    "\n",
    "import pandas as pd\n",
    "\n",
    "# Read the dataset\n",
    "yearly = pd.read_csv(r\"C:\\Users\\User\\Downloads\\datasets\\datasets\\yearly_deaths_by_clinic.csv\")\n",
    "\n",
    "# Calculate yearly proportion of deaths\n",
    "yearly[\"proportion_deaths\"] = yearly[\"deaths\"] / yearly[\"births\"]\n",
    "\n",
    "# Extract rows from clinic 1\n",
    "yearly1 = yearly[yearly[\"clinic\"] == 1]\n",
    "\n",
    "# Print yearly1\n",
    "print(yearly1)\n"
   ]
  },
  {
   "cell_type": "code",
   "execution_count": null,
   "id": "8bfe5535",
   "metadata": {},
   "outputs": [],
   "source": []
  }
 ],
 "metadata": {
  "kernelspec": {
   "display_name": "Python 3 (ipykernel)",
   "language": "python",
   "name": "python3"
  },
  "language_info": {
   "codemirror_mode": {
    "name": "ipython",
    "version": 3
   },
   "file_extension": ".py",
   "mimetype": "text/x-python",
   "name": "python",
   "nbconvert_exporter": "python",
   "pygments_lexer": "ipython3",
   "version": "3.10.9"
  }
 },
 "nbformat": 4,
 "nbformat_minor": 5
}
